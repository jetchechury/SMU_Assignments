{
 "cells": [
  {
   "cell_type": "markdown",
   "metadata": {},
   "source": [
    "# WeatherPy\n",
    "----\n",
    "\n",
    "### Analysis\n",
    "* As expected, the weather becomes significantly warmer as one approaches the equator (0 Deg. Latitude). More interestingly, however, is the fact that the southern hemisphere tends to be warmer this time of year than the northern hemisphere. This may be due to the tilt of the earth.\n",
    "* There is no strong relationship between latitude and cloudiness. However, it is interesting to see that a strong band of cities sits at 0, 80, and 100% cloudiness.\n",
    "* There is no strong relationship between latitude and wind speed. However, in northern hemispheres there is a flurry of cities with over 20 mph of wind.\n",
    "\n",
    "---\n",
    "\n",
    "#### Note\n",
    "* Instructions have been included for each segment. You do not have to follow them exactly, but they are included to help you think through the steps."
   ]
  },
  {
   "cell_type": "code",
   "execution_count": 2,
   "metadata": {
    "scrolled": true
   },
   "outputs": [],
   "source": [
    "# Dependencies and Setup\n",
    "import matplotlib.pyplot as plt\n",
    "import pandas as pd\n",
    "import numpy as np\n",
    "import requests\n",
    "import time\n",
    "import config\n",
    "\n",
    "\n",
    "# Incorporated citipy to determine city based on latitude and longitude\n",
    "from citipy import citipy\n",
    "\n",
    "# Output File (CSV)\n",
    "output_data_file = \"output_data/cities.csv\"\n",
    "\n",
    "# Range of latitudes and longitudes\n",
    "lat_range = (-90, 90)\n",
    "lng_range = (-180, 180)"
   ]
  },
  {
   "cell_type": "markdown",
   "metadata": {},
   "source": [
    "## Generate Cities List"
   ]
  },
  {
   "cell_type": "code",
   "execution_count": null,
   "metadata": {},
   "outputs": [],
   "source": [
    "# List for holding lat_lngs and cities\n",
    "lat_lngs = []\n",
    "cities = []\n",
    "lat_list=[]\n",
    "lngs_list=[]\n",
    "city_count=0\n",
    "\n",
    "# Create a set of random lat and lng combinations\n",
    "lats = np.random.uniform(low=-90.000, high=90.000, size=1500)\n",
    "lngs = np.random.uniform(low=-180.000, high=180.000, size=1500)\n",
    "lat_lngs = zip(lats, lngs)\n",
    "\n",
    "\n",
    "# Identify nearest city for each lat, lng combination\n",
    "for lat_lng in lat_lngs:\n",
    "    city = citipy.nearest_city(lat_lng[0], lat_lng[1]).city_name\n",
    "    \n",
    "    # If the city is unique, then add it to a our cities list\n",
    "    if city not in cities:\n",
    "        cities.append(city)\n",
    "     \n",
    "\n",
    "# Print the city count to confirm sufficient count\n",
    "cities_df=pd.DataFrame({'City':cities})\n",
    "len(cities)\n"
   ]
  },
  {
   "cell_type": "markdown",
   "metadata": {},
   "source": [
    "### Perform API Calls\n",
    "* Perform a weather check on each city using a series of successive API calls.\n",
    "* Include a print log of each city as it'sbeing processed (with the city number and city name).\n"
   ]
  },
  {
   "cell_type": "code",
   "execution_count": null,
   "metadata": {},
   "outputs": [],
   "source": [
    "#Create lists to hold data retrieved from API\n",
    "Max_Temp=[]\n",
    "Cloudiness=[]\n",
    "Humidity=[]\n",
    "Latitude=[]\n",
    "Longitude=[]\n",
    "Wind_Speed=[]\n",
    "City=[]\n",
    "Country=[]\n",
    "Date=[]"
   ]
  },
  {
   "cell_type": "code",
   "execution_count": null,
   "metadata": {},
   "outputs": [],
   "source": [
    "params={\"key\":config.api_key}\n",
    "url=\"http://api.openweathermap.org/data/2.5/weather?\"\n",
    "units=\"metric\"\n",
    "city_count=0\n",
    "\n",
    "for index, row in cities_df.iterrows():\n",
    "        city=row['City']\n",
    "        query_url=url+\"appid=\"+config.api_key+\"&q=\"+city+\"&units=\"+units\n",
    "\n",
    "        city_info=requests.get(query_url).json()\n",
    "        \n",
    "        print(city_info)"
   ]
  },
  {
   "cell_type": "code",
   "execution_count": null,
   "metadata": {},
   "outputs": [],
   "source": [
    "params={\"key\":config.api_key}\n",
    "url=\"http://api.openweathermap.org/data/2.5/weather?\"\n",
    "units=\"metric\"\n",
    "city_count=0\n",
    "\n",
    "for index, row in cities_df.iterrows():\n",
    "        city=row['City']\n",
    "        query_url=url+\"appid=\"+config.api_key+\"&q=\"+city+\"&units=\"+units\n",
    "\n",
    "        city_info=requests.get(query_url)\n",
    "        \n",
    "        try: \n",
    "            city_info=city_info.json()\n",
    "            \n",
    "            maxTemp_data=city_info['main'][\"temp_max\"]\n",
    "            cloudiness_data=city_info['clouds']['all']\n",
    "            humidity_data=city_info['main']['humidity']\n",
    "            latitude_data=city_info['coord']['lat']\n",
    "            longitude_data=city_info['coord']['lon']\n",
    "            windSpeed_data=city_info['wind']['speed']\n",
    "            city_data=city_info[\"name\"]\n",
    "            country_data=city_info['sys']['country']\n",
    "            date_data=city_info['dt']\n",
    "            \n",
    "            Max_Temp.append(maxTemp_data)\n",
    "            Cloudiness.append(cloudiness_data)\n",
    "            Humidity.append(humidity_data)\n",
    "            Latitude.append(latitude_data)\n",
    "            Longitude.append(longitude_data)\n",
    "            Wind_Speed.append(windSpeed_data)\n",
    "            City.append(city_data)\n",
    "            Country.append(country_data)\n",
    "            Date.append(date_data)\n",
    "            \n",
    "            \n",
    "            city_count=city_count+1\n",
    "            \n",
    "            \n",
    "            print(f\"Information for city number {city_count}, {city}, retrieved\")\n",
    "            \n",
    "        except(KeyError, IndexError):\n",
    "            print(\"-----------------------------\")\n",
    "            print(f\"Unable to obtain information for {city}...skipping\")\n",
    "            print(\"-----------------------------\")\n",
    "\n"
   ]
  },
  {
   "cell_type": "markdown",
   "metadata": {},
   "source": [
    "### Convert Raw Data to DataFrame\n",
    "* Export the city data into a .csv.\n",
    "* Display the DataFrame"
   ]
  },
  {
   "cell_type": "code",
   "execution_count": null,
   "metadata": {},
   "outputs": [],
   "source": [
    "weatherpy_df=pd.DataFrame({\"City\":City,\n",
    "                          \"Country\":Country,\n",
    "                          \"Date\":Date,\n",
    "                          \"Latitude\":Latitude,\n",
    "                          \"Longitude\":Longitude,\n",
    "                          \"Max Temp\":Max_Temp,\n",
    "                          \"Humidity\":Humidity,\n",
    "                          \"Cloudiness\":Cloudiness,\n",
    "                          \"Wind Speed\":Wind_Speed})\n",
    "\n",
    "weatherpy_df.head(100)"
   ]
  },
  {
   "cell_type": "code",
   "execution_count": null,
   "metadata": {},
   "outputs": [],
   "source": [
    "today=date.today()\n",
    "\n",
    "#Save information from API calls into CSV\n",
    "weatherpy_df.to_csv(f\"./output/City_Weather_Data_{today}.csv\",index=False,header=True,\n",
    "                 encoding=\"utf-8\")"
   ]
  },
  {
   "cell_type": "code",
   "execution_count": 1,
   "metadata": {},
   "outputs": [
    {
     "ename": "NameError",
     "evalue": "name 'pd' is not defined",
     "output_type": "error",
     "traceback": [
      "\u001b[0;31m---------------------------------------------------------------------------\u001b[0m",
      "\u001b[0;31mNameError\u001b[0m                                 Traceback (most recent call last)",
      "\u001b[0;32m<ipython-input-1-59a63f7629b4>\u001b[0m in \u001b[0;36m<module>\u001b[0;34m\u001b[0m\n\u001b[1;32m      1\u001b[0m \u001b[0;31m#Read csv created\u001b[0m\u001b[0;34m\u001b[0m\u001b[0;34m\u001b[0m\u001b[0;34m\u001b[0m\u001b[0m\n\u001b[0;32m----> 2\u001b[0;31m \u001b[0mweatherpy_df\u001b[0m\u001b[0;34m=\u001b[0m\u001b[0mpd\u001b[0m\u001b[0;34m.\u001b[0m\u001b[0mread_csv\u001b[0m\u001b[0;34m(\u001b[0m\u001b[0;34mf\"./output/City_Weather_Data_{today}.csv\"\u001b[0m\u001b[0;34m)\u001b[0m\u001b[0;34m\u001b[0m\u001b[0;34m\u001b[0m\u001b[0m\n\u001b[0m\u001b[1;32m      3\u001b[0m \u001b[0mweatherpy_df\u001b[0m\u001b[0;34m.\u001b[0m\u001b[0mhead\u001b[0m\u001b[0;34m(\u001b[0m\u001b[0;36m100\u001b[0m\u001b[0;34m)\u001b[0m\u001b[0;34m\u001b[0m\u001b[0;34m\u001b[0m\u001b[0m\n",
      "\u001b[0;31mNameError\u001b[0m: name 'pd' is not defined"
     ]
    }
   ],
   "source": [
    "#Read csv created \n",
    "weatherpy_df=pd.read_csv(f\"./output/City_Weather_Data_{today}.csv\")\n",
    "weatherpy_df.head(100)"
   ]
  },
  {
   "cell_type": "code",
   "execution_count": null,
   "metadata": {},
   "outputs": [],
   "source": [
    "#Perform count to make sure that data set is complete\n",
    "weatherpy_df.count()"
   ]
  },
  {
   "cell_type": "code",
   "execution_count": null,
   "metadata": {},
   "outputs": [],
   "source": [
    "#Drop incomplete rows\n",
    "weatherpy_df.dropna().info()"
   ]
  },
  {
   "cell_type": "markdown",
   "metadata": {},
   "source": [
    "### Plotting the Data\n",
    "* Use proper labeling of the plots using plot titles (including date of analysis) and axes labels.\n",
    "* Save the plotted figures as .pngs."
   ]
  },
  {
   "cell_type": "markdown",
   "metadata": {},
   "source": [
    "#### Latitude vs. Temperature Plot"
   ]
  },
  {
   "cell_type": "code",
   "execution_count": null,
   "metadata": {},
   "outputs": [],
   "source": [
    "from datetime import datetime, date, time, timedelta\n",
    "\n",
    "today=date.today()\n",
    "\n",
    "plt.scatter(weatherpy_df[\"Latitude\"],weatherpy_df[\"Max Temp\"],c='#ff2500',alpha=0.5,edgecolors='black')\n",
    "plt.xlabel(\"Latitude\")\n",
    "plt.ylabel(\"Max Temperature (C)\")\n",
    "plt.title(f\"City Latitude vs. Max Temperature {today}\")\n",
    "\n",
    "plt.savefig('/output/Latitude vs Temp.png',bbox_inches=\"tight\")"
   ]
  },
  {
   "cell_type": "markdown",
   "metadata": {},
   "source": [
    "#### Latitude vs. Humidity Plot"
   ]
  },
  {
   "cell_type": "code",
   "execution_count": null,
   "metadata": {},
   "outputs": [],
   "source": [
    "plt.scatter(weatherpy_df[\"Latitude\"],weatherpy_df[\"Humidity\"],c='#ff2500',alpha=0.5,edgecolors='black')\n",
    "plt.xlabel(\"Latitude\")\n",
    "plt.ylabel(\"Humidity (%)\")\n",
    "plt.title(f\"City Latitude vs. Humidity {today}\")\n",
    "\n",
    "plt.savefig('./output/Latitude vs Humidity.png',bbox_inches=\"tight\")"
   ]
  },
  {
   "cell_type": "markdown",
   "metadata": {},
   "source": [
    "#### Latitude vs. Cloudiness Plot"
   ]
  },
  {
   "cell_type": "code",
   "execution_count": null,
   "metadata": {},
   "outputs": [],
   "source": [
    "plt.scatter(weatherpy_df[\"Latitude\"],weatherpy_df[\"Cloudiness\"],c='#ff2500',alpha=0.5,edgecolors='black')\n",
    "plt.xlabel(\"Latitude\")\n",
    "plt.ylabel(\"Cloudiness (%)\")\n",
    "plt.title(f\"City Latitude vs. Cloudiness {today}\")\n",
    "\n",
    "plt.savefig('./output/Latitude vs Cloudiness.png',bbox_inches=\"tight\")"
   ]
  },
  {
   "cell_type": "markdown",
   "metadata": {},
   "source": [
    "#### Latitude vs. Wind Speed Plot"
   ]
  },
  {
   "cell_type": "code",
   "execution_count": null,
   "metadata": {},
   "outputs": [],
   "source": [
    "plt.scatter(weatherpy_df[\"Latitude\"],weatherpy_df[\"Wind Speed\"],c='#ff2500',alpha=0.5,edgecolors='black')\n",
    "plt.xlabel(\"Latitude\")\n",
    "plt.ylabel(\"Wind Speed (mph)\")\n",
    "plt.title(f\"City Latitude vs. Wind Speed {today}\")\n",
    "\n",
    "plt.savefig('./output/Latitude vs Wind Speed.png',bbox_inches=\"tight\")"
   ]
  },
  {
   "cell_type": "code",
   "execution_count": null,
   "metadata": {},
   "outputs": [],
   "source": []
  }
 ],
 "metadata": {
  "anaconda-cloud": {},
  "kernel_info": {
   "name": "python3"
  },
  "kernelspec": {
   "display_name": "Python 3",
   "language": "python",
   "name": "python3"
  },
  "language_info": {
   "codemirror_mode": {
    "name": "ipython",
    "version": 3
   },
   "file_extension": ".py",
   "mimetype": "text/x-python",
   "name": "python",
   "nbconvert_exporter": "python",
   "pygments_lexer": "ipython3",
   "version": "3.7.1"
  },
  "nteract": {
   "version": "0.12.3"
  }
 },
 "nbformat": 4,
 "nbformat_minor": 2
}
