{
 "cells": [
  {
   "cell_type": "code",
   "execution_count": 2,
   "metadata": {},
   "outputs": [],
   "source": [
    "import os\n",
    "import csv"
   ]
  },
  {
   "cell_type": "code",
   "execution_count": 3,
   "metadata": {},
   "outputs": [],
   "source": [
    "#File path\n",
    "budget_data=os.path.join('budget_data.csv')"
   ]
  },
  {
   "cell_type": "code",
   "execution_count": 4,
   "metadata": {},
   "outputs": [
    {
     "name": "stdout",
     "output_type": "stream",
     "text": [
      "Header:Date,Profit/Losses\r\n",
      "\n"
     ]
    }
   ],
   "source": [
    "#Open CSV\n",
    "with open(budget_data,newline='') as csvfile:\n",
    "    csvreader = csv.reader(csvfile,delimiter=',')\n",
    "    csv_header=next(csvfile)\n",
    "    print(f\"Header:{csv_header}\")\n",
    "    #Set zero balances\n",
    "    TotalMonths=0\n",
    "    total=0\n",
    "    Months=[]\n",
    "    #Lists from csv\n",
    "    Profit_Loss=[]\n",
    "    for row in csvreader:\n",
    "        TotalMonths += 1\n",
    "        total += int(row[1])\n",
    "        Months.append(row[0])\n",
    "        Profit_Loss.append(int(row[1]))\n",
    "    #Find the min and max values in Profit/Losses column\n",
    "    maxVal=max(Profit_Loss)\n",
    "    minVal=min(Profit_Loss)\n",
    "    #Find the index of the min and max values so that the date can be referenced in the summary table\n",
    "    maxVal_index=Profit_Loss.index(max(Profit_Loss))\n",
    "    minVal_index=Profit_Loss.index(min(Profit_Loss))\n",
    "    #Find average total\n",
    "    average=total/TotalMonths"
   ]
  },
  {
   "cell_type": "code",
   "execution_count": 5,
   "metadata": {},
   "outputs": [
    {
     "name": "stdout",
     "output_type": "stream",
     "text": [
      "Financial Analysis\n",
      "----------------------------\n",
      "Total Months:86\n",
      "Net Total Amount:38382578\n",
      "Average: $446309.05\n",
      "Maximum Value:Feb-2012($1170593)\n",
      "Minimum Value:Sep-2013($-1196225)\n",
      "\n"
     ]
    }
   ],
   "source": [
    "#Print information\n",
    "print(\"Financial Analysis\"\"\\n\"\n",
    "      \"----------------------------\"\"\\n\"\n",
    "      f\"Total Months:{TotalMonths}\"\"\\n\"\n",
    "      f\"Net Total Amount:{total}\"\"\\n\"\n",
    "      f\"Average: ${average:.2F}\"\"\\n\"\n",
    "      f\"Maximum Value:{Months[maxVal_index]}(${(str(maxVal))})\"\"\\n\"\n",
    "      f\"Minimum Value:{Months[minVal_index]}(${(str(minVal))})\"\"\\n\"\n",
    "     )"
   ]
  },
  {
   "cell_type": "code",
   "execution_count": 6,
   "metadata": {},
   "outputs": [],
   "source": [
    "#Create textfile\n",
    "textfile=open('PyBudget.txt','w')\n",
    "textfile.write(\"Financial Analysis\"\"\\n\"\n",
    "      \"------------------------------\"\"\\n\"\n",
    "      f\"Total Months:{TotalMonths}\"\"\\n\"\n",
    "      f\"Net Total Amount: ${total}\"\"\\n\"\n",
    "      f\"Average: ${average:.2F}\"\"\\n\"\n",
    "      f\"Maximum Value:{Months[maxVal_index]}(${(str(maxVal))})\"\"\\n\"\n",
    "      f\"Minimum Value:{Months[minVal_index]}(${(str(minVal))})\"\"\\n\"\n",
    "     )\n",
    "textfile.close()"
   ]
  },
  {
   "cell_type": "code",
   "execution_count": null,
   "metadata": {},
   "outputs": [],
   "source": []
  }
 ],
 "metadata": {
  "kernelspec": {
   "display_name": "Python [conda env:PythonData]",
   "language": "python",
   "name": "conda-env-PythonData-py"
  },
  "language_info": {
   "codemirror_mode": {
    "name": "ipython",
    "version": 3
   },
   "file_extension": ".py",
   "mimetype": "text/x-python",
   "name": "python",
   "nbconvert_exporter": "python",
   "pygments_lexer": "ipython3",
   "version": "3.6.7"
  }
 },
 "nbformat": 4,
 "nbformat_minor": 2
}
