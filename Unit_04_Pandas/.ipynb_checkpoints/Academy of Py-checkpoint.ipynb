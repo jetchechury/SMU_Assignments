{
 "cells": [
  {
   "cell_type": "code",
   "execution_count": null,
   "metadata": {},
   "outputs": [],
   "source": [
    "import pandas as pd\n",
    "import numpy as np"
   ]
  },
  {
   "cell_type": "code",
   "execution_count": null,
   "metadata": {},
   "outputs": [],
   "source": [
    "#File locations\n",
    "school_data='./schools_complete.csv'\n",
    "student_data='./students_complete.csv'\n",
    "\n",
    "#Read files\n",
    "school_data_df=pd.read_csv(school_data)\n",
    "student_data_df=pd.read_csv(student_data)\n",
    "\n",
    "#Combine data into single dataset\n",
    "school_data_complete=pd.merge(student_data_df,school_data_df,\n",
    "    how=\"left\",on=[\"school_name\",\"school_name\"])\n",
    "\n",
    "#print column headers\n",
    "school_data_complete.columns"
   ]
  },
  {
   "cell_type": "markdown",
   "metadata": {},
   "source": [
    "# DISTRICT SUMMARY"
   ]
  },
  {
   "cell_type": "code",
   "execution_count": null,
   "metadata": {},
   "outputs": [],
   "source": [
    "#Determine total number of schools in district\n",
    "school_count=len(school_data_complete[\"school_name\"].unique())\n",
    "print(school_count)"
   ]
  },
  {
   "cell_type": "code",
   "execution_count": null,
   "metadata": {},
   "outputs": [],
   "source": [
    "#Determine total number of students in district\n",
    "student_count=len(school_data_complete[\"Student ID\"].unique())\n",
    "print(student_count)"
   ]
  },
  {
   "cell_type": "code",
   "execution_count": null,
   "metadata": {},
   "outputs": [],
   "source": [
    "#Determine budget for all schools combined in district\n",
    "total_budget=school_data_df['budget'].sum()\n",
    "print(total_budget)"
   ]
  },
  {
   "cell_type": "code",
   "execution_count": null,
   "metadata": {},
   "outputs": [],
   "source": [
    "#Determine average math and reading score for district\n",
    "mathavg_district=school_data_complete['math_score'].mean()\n",
    "print(mathavg_district)\n",
    "\n",
    "readavg_district=school_data_complete['reading_score'].mean()\n",
    "print(readavg_district)"
   ]
  },
  {
   "cell_type": "code",
   "execution_count": null,
   "metadata": {},
   "outputs": [],
   "source": [
    "#Determine overall passing rate (overall average score) for district \n",
    "#(avg. math score + avg. reading score)/2\n",
    "passingrate_district=((mathavg_district)+(readavg_district))/2\n",
    "print(passingrate_district)"
   ]
  },
  {
   "cell_type": "code",
   "execution_count": null,
   "metadata": {},
   "outputs": [],
   "source": [
    "#Create data frame with students math score 70 or greater (passing) for\n",
    "#district\n",
    "pmath_dis_df=school_data_complete.loc[school_data_complete[\"math_score\"]\n",
    "    >=70,[\"Student ID\",\"math_score\",\"school_name\"]]\n",
    "pmath_dis_df.head()\n",
    "\n",
    "#Determine count of students who have math score 70 or greater (passing) for\n",
    "#district\n",
    "pmath_count_dis=len(pmath_dis_df[\"Student ID\"].unique())\n",
    "print(pmath_count_dis)\n",
    "\n",
    "#Calculate percent of students with math score 70 or greater (passing)\n",
    "#for district\n",
    "pmath_per_dis=((pmath_count_dis)/(student_count))*100\n",
    "print(pmath_per_dis)"
   ]
  },
  {
   "cell_type": "code",
   "execution_count": null,
   "metadata": {},
   "outputs": [],
   "source": [
    "#Create data frame with students reading score 70 or greater (passing)\n",
    "pread_dis_df=school_data_complete.loc[school_data_complete[\"reading_score\"]\n",
    "            >=70,[\"Student ID\",\"reading_score\",\"school_name\"]]\n",
    "pread_dis_df.head()\n",
    "\n",
    "#Determine count of students who have reading score \n",
    "#70 or greater (passing) for district\n",
    "pread_count_dis=len(pread_dis_df[\"Student ID\"].unique())\n",
    "print(pread_count_dis)\n",
    "\n",
    "#Calculate percent of students with reading score 70 or greater (passing)\n",
    "#for district\n",
    "pread_per_dis=((pread_count_dis)/(student_count))*100\n",
    "print(pread_per_dis)"
   ]
  },
  {
   "cell_type": "code",
   "execution_count": null,
   "metadata": {},
   "outputs": [],
   "source": [
    "#Create and print district summary table\n",
    "districtsummary=pd.DataFrame({'Total Schools':school_count,\n",
    "                            'Total Students':student_count,\n",
    "                            'Total Budget':total_budget,\n",
    "                            '% Overall Passing Rate':passingrate_district,\n",
    "                            'Average Math Score':mathavg_district,\n",
    "                            '% Passing Math':pmath_per_dis,\n",
    "                            'Average Reading Score':readavg_district,\n",
    "                            '% Passing Math':pmath_per_dis,\n",
    "                            '% Passing Reading':pread_per_dis},\n",
    "                             index=[0])\n",
    "districtsummary=districtsummary.round(decimals=2)\n",
    "districtsummary.head()"
   ]
  },
  {
   "cell_type": "markdown",
   "metadata": {},
   "source": [
    "# SCHOOL SUMMARY"
   ]
  },
  {
   "cell_type": "code",
   "execution_count": null,
   "metadata": {},
   "outputs": [],
   "source": [
    "#Group data set by school\n",
    "grouped_school=school_data_complete.groupby(['school_name'])\n",
    "grouped_school.head()\n"
   ]
  },
  {
   "cell_type": "code",
   "execution_count": null,
   "metadata": {},
   "outputs": [],
   "source": [
    "#Determine student count by school\n",
    "StuCount_school=grouped_school[\"Student ID\"].count()\n",
    "StuCount_school.head()"
   ]
  },
  {
   "cell_type": "code",
   "execution_count": null,
   "metadata": {},
   "outputs": [],
   "source": [
    "#Determine average math score by school\n",
    "MathAvg_school=grouped_school[\"math_score\"].mean()\n",
    "MathAvg_school.head()\n",
    "\n"
   ]
  },
  {
   "cell_type": "code",
   "execution_count": null,
   "metadata": {},
   "outputs": [],
   "source": [
    "#Determine average reading score by school\n",
    "ReadAvg_school=grouped_school[\"reading_score\"].mean()\n",
    "ReadAvg_school.head()"
   ]
  },
  {
   "cell_type": "code",
   "execution_count": null,
   "metadata": {},
   "outputs": [],
   "source": [
    "#Group students who passed math by school\n",
    "PMath_School=pmath_dis_df.groupby(\"school_name\")\n",
    "print(PMath_School)\n",
    "\n",
    "#Determine count of students who passed math by school\n",
    "PMath_Count_School=PMath_School[\"math_score\"].count()\n",
    "PMath_Count_School.head()\n",
    "\n",
    "#Calculate percent of school who passed math by school\n",
    "PercentM_School=(PMath_Count_School/StuCount_school)*100"
   ]
  },
  {
   "cell_type": "code",
   "execution_count": null,
   "metadata": {},
   "outputs": [],
   "source": [
    "#Group students who passed reading by school\n",
    "PRead_School=pread_dis_df.groupby(\"school_name\")\n",
    "print(PRead_School)\n",
    "\n",
    "#Determine count of students who passed math by school\n",
    "PRead_Count_School=PRead_School[\"reading_score\"].count()\n",
    "PRead_Count_School.head()\n",
    "\n",
    "#Calculate percent of school who passed math by school\n",
    "PercentR_School=(PRead_Count_School/StuCount_school)*100"
   ]
  },
  {
   "cell_type": "code",
   "execution_count": null,
   "metadata": {},
   "outputs": [],
   "source": [
    "#Determine overall passing average (average of percent passing reading\n",
    "#and percent passing math)\n",
    "overallavg_school=(PercentR_School+PercentM_School)/2"
   ]
  },
  {
   "cell_type": "code",
   "execution_count": null,
   "metadata": {},
   "outputs": [],
   "source": [
    "#Sort school data set so that budget and typ can be extracted in the \n",
    "#same order as information grouped by school\n",
    "school_data_alpha=school_data_df.sort_values([\"school_name\"],ascending=True)"
   ]
  },
  {
   "cell_type": "code",
   "execution_count": null,
   "metadata": {},
   "outputs": [],
   "source": [
    "#Extract budget information from school data set\n",
    "budget=school_data_alpha[\"budget\"].values"
   ]
  },
  {
   "cell_type": "code",
   "execution_count": null,
   "metadata": {},
   "outputs": [],
   "source": [
    "#Extract types information from school data set\n",
    "types=school_data_alpha[\"type\"].values\n"
   ]
  },
  {
   "cell_type": "code",
   "execution_count": null,
   "metadata": {},
   "outputs": [],
   "source": [
    "#Calculate the Budget Per Student\n",
    "perstu_budget=budget/StuCount_school\n",
    "perstu_budget"
   ]
  },
  {
   "cell_type": "code",
   "execution_count": null,
   "metadata": {},
   "outputs": [],
   "source": [
    "#Make and display summary table\n",
    "schoolsummary=pd.DataFrame({'School Type':types,\n",
    "                            'Total School Budget':budget,\n",
    "                            'Total Students':StuCount_school,\n",
    "                            'Per Student Budget':perstu_budget,\n",
    "                            '% Overall Passing Rate':overallavg_school,\n",
    "                            'Average Math Score':MathAvg_school,\n",
    "                            '% Passing Math':PercentM_School,\n",
    "                            'Average Reading Score':ReadAvg_school,\n",
    "                            '% Passing Reading':PercentR_School\n",
    "                           })\n",
    "\n",
    "schoolsummary=schoolsummary.rename_axis(None, axis=1).rename_axis('School Name', axis=0)\n",
    "\n",
    "schoolsummary=schoolsummary.round(decimals=2)\n",
    "schoolsummary"
   ]
  },
  {
   "cell_type": "code",
   "execution_count": null,
   "metadata": {},
   "outputs": [],
   "source": [
    "#Sort school summary by top performing schools\n",
    "top_performing=schoolsummary.sort_values([\"% Overall Passing Rate\"],ascending=False)\n",
    "top_performing.head()"
   ]
  },
  {
   "cell_type": "code",
   "execution_count": null,
   "metadata": {},
   "outputs": [],
   "source": [
    "#Sort school summary by low performing schools\n",
    "low_performing=schoolsummary.sort_values([\"% Overall Passing Rate\"],ascending=True)\n",
    "low_performing.head()"
   ]
  },
  {
   "cell_type": "markdown",
   "metadata": {},
   "source": [
    "# Math Scores by Grade"
   ]
  },
  {
   "cell_type": "code",
   "execution_count": null,
   "metadata": {},
   "outputs": [],
   "source": [
    "#Extract 9th graders from school data\n",
    "#Group 9th grade data set by school\n",
    "#Determine average math score of 9th graders by school\n",
    "\n",
    "ninth=school_data_complete.loc[school_data_complete[\"grade\"]==\"9th\",:]\n",
    "ninth_school=ninth.groupby('school_name')\n",
    "ninth_mavg=ninth_school[\"math_score\"].mean()\n",
    "ninth_mavg.head()"
   ]
  },
  {
   "cell_type": "code",
   "execution_count": null,
   "metadata": {},
   "outputs": [],
   "source": [
    "#Extract 10th graders from school data\n",
    "#Group 10th grade data set by school\n",
    "#Determine average math score of 10th graders by school\n",
    "\n",
    "tenth=school_data_complete.loc[school_data_complete[\"grade\"]==\"10th\",:]\n",
    "tenth_school=tenth.groupby('school_name')\n",
    "tenth_mavg=tenth_school[\"math_score\"].mean()\n",
    "tenth_mavg.head()"
   ]
  },
  {
   "cell_type": "code",
   "execution_count": null,
   "metadata": {},
   "outputs": [],
   "source": [
    "#Extract 11th graders from school data\n",
    "#Group 11th grade data set by school\n",
    "#Determine average math score of 11th graders by school\n",
    "\n",
    "eleventh=school_data_complete.loc[school_data_complete[\"grade\"]==\"11th\",:]\n",
    "eleventh_school=eleventh.groupby('school_name')\n",
    "eleventh_mavg=eleventh_school[\"math_score\"].mean()\n",
    "eleventh_mavg.head()"
   ]
  },
  {
   "cell_type": "code",
   "execution_count": null,
   "metadata": {},
   "outputs": [],
   "source": [
    "#Extract 12th graders from school data\n",
    "#Group 12th grade data set by school\n",
    "#Determine average math score of 12th graders by school\n",
    "\n",
    "twelfth=school_data_complete.loc[school_data_complete[\"grade\"]==\"12th\",:]\n",
    "twelfth_school=twelfth.groupby('school_name')\n",
    "twelfth_mavg=twelfth_school[\"math_score\"].mean()\n",
    "twelfth_mavg.head()"
   ]
  },
  {
   "cell_type": "code",
   "execution_count": null,
   "metadata": {},
   "outputs": [],
   "source": [
    "#Create data frame of math scores for each grade by school\n",
    "math_bygrade=pd.DataFrame({'9th Grade':ninth_mavg,\n",
    "                          '10th Grade':tenth_mavg,\n",
    "                          '11th Grade':eleventh_mavg,\n",
    "                          '12th Grade':twelfth_mavg})\n",
    "math_bygrade=math_bygrade.rename_axis(None, axis=1).rename_axis('School Name', axis=0)\n",
    "math_bygrade=math_bygrade.round(decimals=2)\n",
    "math_bygrade"
   ]
  },
  {
   "cell_type": "markdown",
   "metadata": {},
   "source": [
    "# Reading Scores by Grade"
   ]
  },
  {
   "cell_type": "code",
   "execution_count": null,
   "metadata": {},
   "outputs": [],
   "source": [
    "#did not neead to extract data or group b/c it was previously done\n",
    "#determine average reading score of 9th graders by school\n",
    "ninth_ravg=ninth_school[\"reading_score\"].mean()\n",
    "ninth_ravg.head()"
   ]
  },
  {
   "cell_type": "code",
   "execution_count": null,
   "metadata": {},
   "outputs": [],
   "source": [
    "#determine average reading score of 10th graders by school\n",
    "tenth_ravg=tenth_school[\"reading_score\"].mean()\n",
    "tenth_ravg.head()"
   ]
  },
  {
   "cell_type": "code",
   "execution_count": null,
   "metadata": {},
   "outputs": [],
   "source": [
    "#determine average reading score of 11th graders by school\n",
    "eleventh_ravg=eleventh_school[\"reading_score\"].mean()\n",
    "eleventh_ravg.head()"
   ]
  },
  {
   "cell_type": "code",
   "execution_count": null,
   "metadata": {},
   "outputs": [],
   "source": [
    "#determine average reading score of 12th graders by school\n",
    "twelfth_ravg=eleventh_school[\"reading_score\"].mean()\n",
    "twelfth_ravg.head()"
   ]
  },
  {
   "cell_type": "code",
   "execution_count": null,
   "metadata": {},
   "outputs": [],
   "source": [
    "#Create data frame of reading scores for each grade by school\n",
    "read_bygrade=pd.DataFrame({'9th Grade':ninth_ravg,\n",
    "                          '10th Grade':tenth_ravg,\n",
    "                          '11th Grade':eleventh_ravg,\n",
    "                          '12th Grade':twelfth_ravg})\n",
    "read_bygrade=read_bygrade.rename_axis(None, axis=1).rename_axis('School Name', axis=0)\n",
    "\n",
    "read_bygrade=read_bygrade.round(decimals=2)\n",
    "read_bygrade"
   ]
  },
  {
   "cell_type": "markdown",
   "metadata": {},
   "source": [
    "# Schools by School Spending"
   ]
  },
  {
   "cell_type": "code",
   "execution_count": null,
   "metadata": {
    "scrolled": true
   },
   "outputs": [],
   "source": [
    "#Seperate data from school summary into groups/bins based on budget per student\n",
    "spending_bins = [0, 585, 615, 645, 675]\n",
    "group_names = [\"<$585\", \"$585-615\", \"$615-645\", \"$645-675\"]\n",
    "schoolsummary[\"Spending Bin\"]=pd.cut(schoolsummary[\"Per Student Budget\"],\n",
    "                spending_bins,labels=group_names)\n",
    "schoolsummary"
   ]
  },
  {
   "cell_type": "code",
   "execution_count": null,
   "metadata": {},
   "outputs": [],
   "source": [
    "#Group school summary data by spending bins\n",
    "grouped_bins=schoolsummary.groupby('Spending Bin')"
   ]
  },
  {
   "cell_type": "code",
   "execution_count": null,
   "metadata": {},
   "outputs": [],
   "source": [
    "#Find the average math score by bin\n",
    "AvgMath_Spend=grouped_bins[\"Average Math Score\"].mean()\n",
    "AvgMath_Spend"
   ]
  },
  {
   "cell_type": "code",
   "execution_count": null,
   "metadata": {},
   "outputs": [],
   "source": [
    "#Find the average reading score by bin\n",
    "AvgRead_Spend=grouped_bins[\"Average Reading Score\"].mean()\n",
    "AvgRead_Spend"
   ]
  },
  {
   "cell_type": "code",
   "execution_count": null,
   "metadata": {},
   "outputs": [],
   "source": [
    "#Find the average percent passing math by bin\n",
    "AvgPassPerMath_Spend=grouped_bins[\"% Passing Math\"].mean()\n",
    "AvgPassPerMath_Spend"
   ]
  },
  {
   "cell_type": "code",
   "execution_count": null,
   "metadata": {},
   "outputs": [],
   "source": [
    "#Find the average percent passing reading by bin\n",
    "AvgPassPerRead_Spend=grouped_bins[\"% Passing Reading\"].mean()\n",
    "AvgPassPerRead_Spend"
   ]
  },
  {
   "cell_type": "code",
   "execution_count": null,
   "metadata": {},
   "outputs": [],
   "source": [
    "#Find the overall passing rate by bin\n",
    "PerOverall_Spend=grouped_bins[\"% Overall Passing Rate\"].mean()\n",
    "PerOverall_Spend"
   ]
  },
  {
   "cell_type": "code",
   "execution_count": null,
   "metadata": {},
   "outputs": [],
   "source": [
    "#Create a data frame with information above by bin\n",
    "scoresbyspending=pd.DataFrame({'% Overall Passing Rate':PerOverall_Spend,\n",
    "                                'Average Math Score':AvgMath_Spend,\n",
    "                                '% Passing Math':AvgPassPerMath_Spend,\n",
    "                                'Average Reading Score':AvgRead_Spend,\n",
    "                                '% Passing Reading':AvgPassPerRead_Spend\n",
    "                              })\n",
    "\n",
    "scoresbyspending=scoresbyspending.round(decimals=2)\n",
    "scoresbyspending"
   ]
  },
  {
   "cell_type": "markdown",
   "metadata": {},
   "source": [
    "# Scores by School Size"
   ]
  },
  {
   "cell_type": "code",
   "execution_count": null,
   "metadata": {},
   "outputs": [],
   "source": [
    "#Seperate data from school summary into groups/bins based on school size\n",
    "size_bins = [0, 1000, 2000, 5000]\n",
    "size_names =[\"Small (<1000)\", \"Medium (1000-2000)\", \"Large (2000-5000)\"]\n",
    "schoolsummary[\"Size Bins\"]=pd.cut(schoolsummary[\"Total Students\"],\n",
    "                size_bins,labels=size_names)\n",
    "schoolsummary.head()"
   ]
  },
  {
   "cell_type": "code",
   "execution_count": null,
   "metadata": {},
   "outputs": [],
   "source": [
    "#Group school summary data by size bins\n",
    "grouped_sizebins=schoolsummary.groupby('Size Bins')"
   ]
  },
  {
   "cell_type": "code",
   "execution_count": null,
   "metadata": {},
   "outputs": [],
   "source": [
    "#Find average math score by bin\n",
    "AvgMath_size=grouped_sizebins[\"Average Math Score\"].mean()\n",
    "AvgMath_size"
   ]
  },
  {
   "cell_type": "code",
   "execution_count": null,
   "metadata": {},
   "outputs": [],
   "source": [
    "#Find average reading score by bin\n",
    "AvgRead_size=grouped_sizebins[\"Average Reading Score\"].mean()\n",
    "AvgRead_size"
   ]
  },
  {
   "cell_type": "code",
   "execution_count": null,
   "metadata": {},
   "outputs": [],
   "source": [
    "#Find average percet passing math by bin\n",
    "AvgPassPerMath_size=grouped_sizebins[\"% Passing Math\"].mean()\n",
    "AvgPassPerMath_size"
   ]
  },
  {
   "cell_type": "code",
   "execution_count": null,
   "metadata": {},
   "outputs": [],
   "source": [
    "#Find average percent passing reading by bin\n",
    "AvgPassPerRead_size=grouped_sizebins[\"% Passing Reading\"].mean()\n",
    "AvgPassPerRead_size"
   ]
  },
  {
   "cell_type": "code",
   "execution_count": null,
   "metadata": {},
   "outputs": [],
   "source": [
    "#Find overall passing rate by bin\n",
    "PerOverall_size=grouped_sizebins[\"% Overall Passing Rate\"].mean()\n",
    "PerOverall_size"
   ]
  },
  {
   "cell_type": "code",
   "execution_count": null,
   "metadata": {},
   "outputs": [],
   "source": [
    "#Create a data frame with information above by bin\n",
    "scoresbysize=pd.DataFrame({'% Overall Passing Rate':PerOverall_size,\n",
    "                           'Average Math Score':AvgMath_size,\n",
    "                           '% Passing Math':AvgPassPerMath_size,\n",
    "                            'Average Reading Score':AvgRead_size,\n",
    "                            '% Passing Reading':AvgPassPerRead_size,\n",
    "                            })\n",
    "\n",
    "scoresbysize=scoresbysize.round(decimals=2)\n",
    "scoresbysize.head()"
   ]
  },
  {
   "cell_type": "markdown",
   "metadata": {},
   "source": [
    "# Scores by School Type"
   ]
  },
  {
   "cell_type": "code",
   "execution_count": null,
   "metadata": {},
   "outputs": [],
   "source": [
    "#Groupe school summary data by school type\n",
    "grouped_type=schoolsummary.groupby(['School Type'])"
   ]
  },
  {
   "cell_type": "code",
   "execution_count": null,
   "metadata": {},
   "outputs": [],
   "source": [
    "#Determine the average math score by school type \n",
    "AvgMath_type=grouped_type[\"Average Math Score\"].mean()\n",
    "AvgMath_type"
   ]
  },
  {
   "cell_type": "code",
   "execution_count": null,
   "metadata": {},
   "outputs": [],
   "source": [
    "#Determine the average reading score by school type\n",
    "AvgRead_type=grouped_type[\"Average Reading Score\"].mean()\n",
    "AvgRead_type"
   ]
  },
  {
   "cell_type": "code",
   "execution_count": null,
   "metadata": {},
   "outputs": [],
   "source": [
    "#Determine the average percent passing math by school type\n",
    "AvgPassPerMath_type=grouped_type[\"% Passing Math\"].mean()\n",
    "AvgPassPerMath_type"
   ]
  },
  {
   "cell_type": "code",
   "execution_count": null,
   "metadata": {},
   "outputs": [],
   "source": [
    "#Determine the average percent passing reading by school type\n",
    "AvgPassPerRead_type=grouped_type[\"% Passing Math\"].mean()\n",
    "AvgPassPerRead_type"
   ]
  },
  {
   "cell_type": "code",
   "execution_count": null,
   "metadata": {},
   "outputs": [],
   "source": [
    "#Determien the overall passing rate by school type\n",
    "PerOverall_type=grouped_type[\"% Overall Passing Rate\"].mean()\n",
    "PerOverall_type"
   ]
  },
  {
   "cell_type": "code",
   "execution_count": null,
   "metadata": {},
   "outputs": [],
   "source": [
    "#Combine above information into data frame\n",
    "scoresbytype=pd.DataFrame({'% Overall Passing Rate':PerOverall_type,\n",
    "                            'Average Math Score':AvgMath_type,\n",
    "                            '% Passing Math':AvgPassPerMath_type,\n",
    "                            'Average Reading Score':AvgRead_type,\n",
    "                            '% Passing Reading':AvgPassPerRead_type})\n",
    "scoresbytype=scoresbytype.round(decimals=2)\n",
    "scoresbytype.head()"
   ]
  },
  {
   "cell_type": "code",
   "execution_count": null,
   "metadata": {},
   "outputs": [],
   "source": []
  }
 ],
 "metadata": {
  "kernelspec": {
   "display_name": "Python [conda env:PythonData]",
   "language": "python",
   "name": "conda-env-PythonData-py"
  },
  "language_info": {
   "codemirror_mode": {
    "name": "ipython",
    "version": 3
   },
   "file_extension": ".py",
   "mimetype": "text/x-python",
   "name": "python",
   "nbconvert_exporter": "python",
   "pygments_lexer": "ipython3",
   "version": "3.6.7"
  }
 },
 "nbformat": 4,
 "nbformat_minor": 2
}
