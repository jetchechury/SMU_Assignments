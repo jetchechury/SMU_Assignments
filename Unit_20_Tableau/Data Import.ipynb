{
 "cells": [
  {
   "cell_type": "markdown",
   "metadata": {},
   "source": [
    "# WORKING DOCUMENT - Not meant to be ran with current\n",
    "# directory"
   ]
  },
  {
   "cell_type": "code",
   "execution_count": null,
   "metadata": {},
   "outputs": [],
   "source": [
    "import os\n",
    "from bs4 import BeautifulSoup\n",
    "import requests\n",
    "import pymongo\n",
    "from splinter import Browser\n",
    "import pandas as pd\n",
    "from requests import Session\n",
    "from bs4 import BeautifulSoup as bs\n",
    "import re\n",
    "import json\n",
    "from pprint import pprint\n",
    "from datetime import datetime, date, time, timedelta\n",
    "from time import sleep\n",
    "from selenium import webdriver\n",
    "import zipfile\n"
   ]
  },
  {
   "cell_type": "code",
   "execution_count": null,
   "metadata": {},
   "outputs": [],
   "source": [
    "\n",
    "# Open web browswer\n",
    "driver = webdriver.Chrome('/usr/local/bin/chromedriver')\n",
    "\n",
    "# Go to specified URL\n",
    "driver.get('https://s3.amazonaws.com/tripdata/index.html')\n",
    "\n",
    "sleep(2)\n"
   ]
  },
  {
   "cell_type": "code",
   "execution_count": null,
   "metadata": {},
   "outputs": [],
   "source": [
    "#Locate file names to be downloaded\n",
    "html=driver.page_source\n",
    "soup=BeautifulSoup(html,'lxml')\n",
    "\n",
    "trip_data_csv=[]\n",
    "\n",
    "table=soup.find_all('table')[0]\n",
    "\n",
    "tr_data=table.find_all('tr')\n",
    "\n",
    "for tr in tr_data[1:]:\n",
    "    td = tr.find_all('a')\n",
    "    row = [tr.text for tr in td]\n",
    "    trip_data_csv.append(row)\n"
   ]
  },
  {
   "cell_type": "code",
   "execution_count": null,
   "metadata": {},
   "outputs": [],
   "source": [
    "trip_data_csv"
   ]
  },
  {
   "cell_type": "code",
   "execution_count": null,
   "metadata": {},
   "outputs": [],
   "source": [
    "# List of lists to list\n",
    "links=[]\n",
    "for item in trip_data_csv:\n",
    "    row=item[0]\n",
    "    links.append(row)"
   ]
  },
  {
   "cell_type": "code",
   "execution_count": null,
   "metadata": {},
   "outputs": [],
   "source": [
    "links"
   ]
  },
  {
   "cell_type": "code",
   "execution_count": null,
   "metadata": {},
   "outputs": [],
   "source": [
    "# Delete files not needed\n",
    "prefix = ('JC-','index','201307-201402-')\n",
    "for link in links[:]:\n",
    "    if link.startswith(prefix):\n",
    "        links.remove(link)\n",
    "\n",
    "links\n"
   ]
  },
  {
   "cell_type": "code",
   "execution_count": null,
   "metadata": {},
   "outputs": [],
   "source": [
    "link_17= [k for k in links if '2017' in k]\n",
    "link_17"
   ]
  },
  {
   "cell_type": "code",
   "execution_count": null,
   "metadata": {},
   "outputs": [],
   "source": [
    "for link in link_17:\n",
    "    driver.get('https://s3.amazonaws.com/tripdata/'+link)\n",
    "    sleep(1)"
   ]
  },
  {
   "cell_type": "code",
   "execution_count": null,
   "metadata": {},
   "outputs": [],
   "source": [
    "# Download files\n",
    "for link in links:\n",
    "    driver.get('https://s3.amazonaws.com/tripdata/'+link)\n",
    "    sleep(1)"
   ]
  },
  {
   "cell_type": "code",
   "execution_count": null,
   "metadata": {},
   "outputs": [],
   "source": [
    "# Unzip files and move to new folder\n",
    "for file in link_17:\n",
    "    zip_ref = zipfile.ZipFile('./tripData/'+file, 'r')\n",
    "    zip_ref.extractall('./tripDataUnzipped')\n",
    "    zip_ref.close()"
   ]
  },
  {
   "cell_type": "code",
   "execution_count": null,
   "metadata": {},
   "outputs": [],
   "source": [
    "# Concat files from same year\n",
    "import pandas as pd\n",
    "import glob\n",
    "\n",
    "path = r'/Users/jessicaetchechury/Desktop/Data_Science_Bootcamp/GitHub_Repo/Unit_20_Tableau/tripDataUnzipped' # use your path\n",
    "all_files = glob.glob(path + \"/2013*.csv\")\n",
    "\n",
    "li = []\n",
    "\n",
    "for filename in all_files:\n",
    "    df = pd.read_csv(filename, index_col=None, header=0)\n",
    "    li.append(df)\n",
    "    print(filename)\n",
    "    \n",
    "tripData_2013 = pd.concat(li, axis=0, ignore_index=True)"
   ]
  },
  {
   "cell_type": "code",
   "execution_count": null,
   "metadata": {},
   "outputs": [],
   "source": [
    "tripData_2013.to_csv(\"/Users/jessicaetchechury/Desktop/Data_Science_Bootcamp/GitHub_Repo/Unit_20_Tableau/tripData/trip_data2013.csv\",index=False,header=True,encoding=\"UTF-8\")\n"
   ]
  },
  {
   "cell_type": "code",
   "execution_count": null,
   "metadata": {},
   "outputs": [],
   "source": [
    "path = r'/Users/jessicaetchechury/Desktop/Data_Science_Bootcamp/GitHub_Repo/Unit_20_Tableau/tripDataUnzipped' # use your path\n",
    "all_files = glob.glob(path + \"/2019*.csv\")\n",
    "\n",
    "li = []\n",
    "\n",
    "for filename in all_files:\n",
    "    df = pd.read_csv(filename, index_col=None, header=0)\n",
    "    li.append(df)\n",
    "    print(filename)\n",
    "    \n",
    "tripData_2019 = pd.concat(li, axis=0, ignore_index=True)"
   ]
  },
  {
   "cell_type": "code",
   "execution_count": null,
   "metadata": {},
   "outputs": [],
   "source": [
    "tripData_2019.to_csv(\"/Users/jessicaetchechury/Desktop/Data_Science_Bootcamp/GitHub_Repo/Unit_20_Tableau/tripData/trip_data2019.csv\",index=False,header=True,encoding=\"UTF-8\")\n"
   ]
  },
  {
   "cell_type": "code",
   "execution_count": null,
   "metadata": {},
   "outputs": [],
   "source": [
    "path = r'/Users/jessicaetchechury/Desktop/Data_Science_Bootcamp/GitHub_Repo/Unit_20_Tableau/tripDataUnzipped' # use your path\n",
    "all_files = glob.glob(path + \"/2018*.csv\")\n",
    "\n",
    "li = []\n",
    "\n",
    "for filename in all_files:\n",
    "    df = pd.read_csv(filename, index_col=None, header=0)\n",
    "    li.append(df)\n",
    "    print(filename)\n",
    "    \n",
    "tripData_2018 = pd.concat(li, axis=0, ignore_index=True)"
   ]
  },
  {
   "cell_type": "code",
   "execution_count": null,
   "metadata": {},
   "outputs": [],
   "source": [
    "tripData_2018.to_csv(\"/Users/jessicaetchechury/Desktop/Data_Science_Bootcamp/GitHub_Repo/Unit_20_Tableau/tripData/trip_data2018.csv\",index=False,header=True,encoding=\"UTF-8\")\n"
   ]
  },
  {
   "cell_type": "code",
   "execution_count": null,
   "metadata": {},
   "outputs": [],
   "source": [
    "path = r'/Users/jessicaetchechury/Desktop/Data_Science_Bootcamp/GitHub_Repo/Unit_20_Tableau/tripDataUnzipped' # use your path\n",
    "all_files = glob.glob(path + \"/2017*.csv\")\n",
    "\n",
    "li = []\n",
    "\n",
    "for filename in all_files:\n",
    "    df = pd.read_csv(filename, index_col=None, header=0)\n",
    "    li.append(df)\n",
    "    print(filename)\n",
    "    \n",
    "tripData_2017 = pd.concat(li, axis=0, ignore_index=True)"
   ]
  },
  {
   "cell_type": "code",
   "execution_count": null,
   "metadata": {},
   "outputs": [],
   "source": [
    "tripData_2017.to_csv(\"/Users/jessicaetchechury/Desktop/Data_Science_Bootcamp/GitHub_Repo/Unit_20_Tableau/tripData/trip_data2017.csv\",index=False,header=True,encoding=\"UTF-8\")\n"
   ]
  },
  {
   "cell_type": "code",
   "execution_count": null,
   "metadata": {},
   "outputs": [],
   "source": [
    "path = r'/Users/jessicaetchechury/Desktop/Data_Science_Bootcamp/GitHub_Repo/Unit_20_Tableau/tripDataUnzipped' # use your path\n",
    "all_files = glob.glob(path + \"/2016*.csv\")\n",
    "\n",
    "li = []\n",
    "\n",
    "for filename in all_files:\n",
    "    df = pd.read_csv(filename, index_col=None, header=0)\n",
    "    li.append(df)\n",
    "    print(filename)\n",
    "    \n",
    "tripData_2016 = pd.concat(li, axis=0, ignore_index=True)"
   ]
  },
  {
   "cell_type": "code",
   "execution_count": null,
   "metadata": {},
   "outputs": [],
   "source": [
    "\n",
    "tripData_2016.to_csv(\"/Users/jessicaetchechury/Desktop/Data_Science_Bootcamp/GitHub_Repo/Unit_20_Tableau/tripData/trip_data2016.csv\",index=False,header=True,encoding=\"UTF-8\")\n"
   ]
  },
  {
   "cell_type": "code",
   "execution_count": null,
   "metadata": {},
   "outputs": [],
   "source": [
    "path = r'/Users/jessicaetchechury/Desktop/Data_Science_Bootcamp/GitHub_Repo/Unit_20_Tableau/tripDataUnzipped' # use your path\n",
    "all_files = glob.glob(path + \"/2015*.csv\")\n",
    "\n",
    "li = []\n",
    "\n",
    "for filename in all_files:\n",
    "    df = pd.read_csv(filename, index_col=None, header=0)\n",
    "    li.append(df)\n",
    "    print(filename)\n",
    "    \n",
    "tripData_2015 = pd.concat(li, axis=0, ignore_index=True)"
   ]
  },
  {
   "cell_type": "code",
   "execution_count": null,
   "metadata": {},
   "outputs": [],
   "source": [
    "\n",
    "tripData_2015.to_csv(\"/Users/jessicaetchechury/Desktop/Data_Science_Bootcamp/GitHub_Repo/Unit_20_Tableau/tripData/trip_data2015.csv\",index=False,header=True,encoding=\"UTF-8\")"
   ]
  },
  {
   "cell_type": "code",
   "execution_count": null,
   "metadata": {},
   "outputs": [],
   "source": [
    "path = r'/Users/jessicaetchechury/Desktop/Data_Science_Bootcamp/GitHub_Repo/Unit_20_Tableau/tripDataUnzipped' # use your path\n",
    "all_files = glob.glob(path + \"/2014*.csv\")\n",
    "\n",
    "li = []\n",
    "\n",
    "for filename in all_files:\n",
    "    df = pd.read_csv(filename, index_col=None, header=0)\n",
    "    li.append(df)\n",
    "    print(filename)\n",
    "    \n",
    "tripData_2014 = pd.concat(li, axis=0, ignore_index=True)"
   ]
  },
  {
   "cell_type": "code",
   "execution_count": null,
   "metadata": {},
   "outputs": [],
   "source": [
    "\n",
    "tripData_2014.to_csv(\"/Users/jessicaetchechury/Desktop/Data_Science_Bootcamp/GitHub_Repo/Unit_20_Tableau/tripData/trip_data2014.csv\",index=False,header=True,encoding=\"UTF-8\")"
   ]
  },
  {
   "cell_type": "code",
   "execution_count": null,
   "metadata": {},
   "outputs": [],
   "source": [
    "# Download ridership membership data\n",
    "\n",
    "from selenium.webdriver.common.action_chains import ActionChains\n",
    "\n",
    "driver.get('https://www.citibikenyc.com/system-data')\n",
    "\n",
    "sleep(2)\n",
    "\n",
    "html=driver.page_source\n",
    "\n",
    "soup=BeautifulSoup(html,'lxml')\n",
    "\n",
    "all_links=[]\n",
    "for a in soup.find_all('a', href=True):\n",
    "    all_links.append(a['href'])\n",
    "\n",
    "ride_mem_links=[k for k in all_links if 'datawrapper' in k]\n",
    "\n",
    "for link in ride_mem_data:\n",
    "    print(link)\n",
    "    driver.get(link)\n",
    "    driver.maximize_window()\n",
    "    sleep(2)\n",
    "    download = driver.find_element_by_link_text('Get the data')\n",
    "    actions = ActionChains(driver);\n",
    "    actions.move_to_element(download).click().perform()\n",
    "    sleep(2)"
   ]
  },
  {
   "cell_type": "code",
   "execution_count": null,
   "metadata": {},
   "outputs": [],
   "source": [
    "import glob\n",
    "import pandas as pd\n",
    "\n",
    "path = r'/Users/jessicaetchechury/Desktop/Data_Science_Bootcamp/GitHub_Repo/Unit_20_Tableau/ridershipMembershipData' # use your path\n",
    "all_files = glob.glob(path + \"/*.csv\")\n",
    "\n",
    "li = []\n",
    "\n",
    "for filename in all_files:\n",
    "    df = pd.read_csv(filename, index_col=None, header=0)\n",
    "    li.append(df)\n",
    "    print(filename)\n",
    "    \n",
    "ride_mem_data = pd.concat(li, axis=0, ignore_index=True)"
   ]
  },
  {
   "cell_type": "code",
   "execution_count": null,
   "metadata": {},
   "outputs": [],
   "source": [
    "\n",
    "ride_mem_data.to_csv(\"/Users/jessicaetchechury/Desktop/Data_Science_Bootcamp/GitHub_Repo/Unit_20_Tableau/tripData/ridershipMembershipData.csv\",index=False,header=True,encoding=\"UTF-8\")"
   ]
  },
  {
   "cell_type": "code",
   "execution_count": null,
   "metadata": {},
   "outputs": [],
   "source": []
  }
 ],
 "metadata": {
  "kernelspec": {
   "display_name": "Python 3",
   "language": "python",
   "name": "python3"
  },
  "language_info": {
   "codemirror_mode": {
    "name": "ipython",
    "version": 3
   },
   "file_extension": ".py",
   "mimetype": "text/x-python",
   "name": "python",
   "nbconvert_exporter": "python",
   "pygments_lexer": "ipython3",
   "version": "3.7.1"
  }
 },
 "nbformat": 4,
 "nbformat_minor": 2
}
